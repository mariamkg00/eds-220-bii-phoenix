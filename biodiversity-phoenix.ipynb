{
 "cells": [
  {
   "cell_type": "markdown",
   "metadata": {},
   "source": [
    "# Biodiversity Intactness Index Change in Phoenix Subdivision\n",
    "\n",
    "Author: Mariam Garcia\n",
    "\n",
    "December 8, 2023\n",
    "\n",
    "Github Repository Link : https://github.com/mariamkg00/eds-220-bii-phoenix/tree/main\n"
   ]
  },
  {
   "cell_type": "markdown",
   "metadata": {},
   "source": [
    "## Dataset description\n",
    "\n",
    "**First dataset** : The first dataset needed in order to analyze BII data will be accessed from the Microsoft Planetary Computer Catalog. We will *only* be looking at rasters \n",
    "from 2017 and 2020. This dataset estimates terrestrial Biodiversity Intactness as 100-meter gridded maps for the years 2017-2020.\n",
    "\n",
    "**Second dataset** : The second dataset is a 2022 TIGER (Topologically Integrated Geographic Encoding and Referencing) shapefile from the US Census Bureau. We will filter to\n",
    "use the Phoenix subdivision shapefile. "
   ]
  },
  {
   "cell_type": "markdown",
   "metadata": {},
   "source": [
    "## Purpose\n",
    "\n",
    "The purpose of this analysis is to visually highlight areas within Phoenix have since lost BII values of greater than or equal to 0.75. \n",
    "\n",
    "As urbanization increasingly becomes prevalent in different areas, land cover changes then affects biodiversity of a given area. According to the USDA (US Department of Agriculture), \"urban expansion may\n",
    "lead to fragmentation, potentially resulting in genetic or demographic isolation of native species \"(Ricketts 2001). It can be argued that urbanization can affect biodiversity and ecosystems in direct and indirect ways. Direct impacts of urbanization range anywhere from habitat loss to modified soils due to land transformation. Biodiversity is an important focal point of research because it contributes to priceless ecosystem services that cannot be replaced or replenished once depleted. It is important to take note at the loss in order to prevent further loss from occurring. \n",
    "\n",
    "According to Microsoft Planetary Computer (MPC), biodiversity intactness is a combination of two measurements : \n",
    "- the quantity of individuals\n",
    "- Compositional Similarity (how similar the composition of species is to an intact baseline)"
   ]
  },
  {
   "cell_type": "markdown",
   "metadata": {},
   "source": [
    "### Importing necessary libraries"
   ]
  },
  {
   "cell_type": "code",
   "execution_count": 1,
   "metadata": {},
   "outputs": [],
   "source": [
    "import numpy as np\n",
    "import geopandas as gpd\n",
    "import rioxarray as rioxr\n",
    "import xarray as xr\n",
    "import matplotlib.pyplot as plt\n",
    "import matplotlib.patches as mpatches\n",
    "\n",
    "import os\n",
    "import contextily as ctx \n",
    "from shapely.geometry import Polygon\n",
    "from shapely.geometry import box\n",
    "\n",
    "# used to access STAC catalogs\n",
    "from pystac_client import Client\n",
    "\n",
    "import planetary_computer\n",
    "\n",
    "#---- other libraries for nice outputs\n",
    "from IPython.display import Image"
   ]
  },
  {
   "cell_type": "code",
   "execution_count": null,
   "metadata": {},
   "outputs": [],
   "source": []
  }
 ],
 "metadata": {
  "kernelspec": {
   "display_name": "mpc-env",
   "language": "python",
   "name": "python3"
  },
  "language_info": {
   "codemirror_mode": {
    "name": "ipython",
    "version": 3
   },
   "file_extension": ".py",
   "mimetype": "text/x-python",
   "name": "python",
   "nbconvert_exporter": "python",
   "pygments_lexer": "ipython3",
   "version": "3.11.4"
  }
 },
 "nbformat": 4,
 "nbformat_minor": 2
}
