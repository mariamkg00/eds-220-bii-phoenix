{
 "cells": [
  {
   "cell_type": "markdown",
   "metadata": {},
   "source": [
    "# Biodiversity Intactness Index Change in Phoenix Subdivision\n",
    "\n",
    "Author: Mariam Garcia\n",
    "\n",
    "December 8, 2023\n",
    "\n",
    "Github Repository Link : https://github.com/mariamkg00/eds-220-bii-phoenix/tree/main\n"
   ]
  },
  {
   "cell_type": "markdown",
   "metadata": {},
   "source": [
    "## Dataset description\n",
    "\n",
    "**First dataset** : The first dataset needed in order to analyze BII data will be accessed from the Microsoft Planetary Computer Catalog. We will *only* be looking at rasters \n",
    "from 2017 and 2020. This dataset estimates terrestrial Biodiversity Intactness as 100-meter gridded maps for the years 2017-2020.\n",
    "\n",
    "**Second dataset** : The second dataset is a 2022 TIGER (Topologically Integrated Geographic Encoding and Referencing) shapefile from the US Census Bureau. We will filter to\n",
    "use the Phoenix subdivision shapefile. "
   ]
  }
 ],
 "metadata": {
  "kernelspec": {
   "display_name": "mpc-env",
   "language": "python",
   "name": "python3"
  },
  "language_info": {
   "name": "python",
   "version": "3.11.4"
  }
 },
 "nbformat": 4,
 "nbformat_minor": 2
}
